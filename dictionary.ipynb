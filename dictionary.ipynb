{
 "cells": [
  {
   "cell_type": "markdown",
   "id": "0195a075",
   "metadata": {},
   "source": [
    "1. Create a dictionary\n",
    "quantity = {&quot;Cosmetics&quot;:30,&quot;Biscuits&quot;:100,&quot;Utensils&quot;:45}\n",
    "Sort the dictionary based on keys and values\n"
   ]
  },
  {
   "cell_type": "code",
   "execution_count": null,
   "id": "8dfbcb09",
   "metadata": {},
   "outputs": [
    {
     "name": "stdout",
     "output_type": "stream",
     "text": [
      "{'Biscuits': 100, 'Cosmetics': 30, 'Utensils': 45}\n",
      "{'Cosmetics': 30, 'Utensils': 45, 'Biscuits': 100}\n"
     ]
    }
   ],
   "source": [
    "# sorting the dictionary based on keys\n",
    "quantity = {\"Cosmetics\":30,\"Biscuits\":100,\"Utensils\":45}\n",
    "print(dict(sorted(quantity.items())))\n",
    "\n",
    "#sorting based on values\n",
    "print(dict(sorted(quantity.items(), key=lambda i : i[1])))"
   ]
  },
  {
   "cell_type": "markdown",
   "id": "4dcd09b2",
   "metadata": {},
   "source": [
    "2. Create a dictionary of five countries and their capitals. Write a function that takes country name as input and returns its capital."
   ]
  },
  {
   "cell_type": "code",
   "execution_count": 6,
   "id": "1bb73403",
   "metadata": {},
   "outputs": [
    {
     "name": "stdout",
     "output_type": "stream",
     "text": [
      "ERODE\n"
     ]
    }
   ],
   "source": [
    "def finder(details,name):\n",
    "    print(details[name])\n",
    "\n",
    "details = {}\n",
    "for i in range(0,5):\n",
    "    name = input(\"Enter the country name : \")\n",
    "    capital = input(\"enter the capital of the country : \")\n",
    "    details[name.upper()] = capital.upper()\n",
    "\n",
    "n = input(\"Enter country name to find its capital : \")\n",
    "finder(details,n.upper())"
   ]
  },
  {
   "cell_type": "markdown",
   "id": "2b06dff8",
   "metadata": {},
   "source": [
    "3. Make a dictionary of student names and their scores. Write a function to find the student\n",
    "with the highest score."
   ]
  },
  {
   "cell_type": "code",
   "execution_count": 3,
   "id": "ab33bf51",
   "metadata": {},
   "outputs": [
    {
     "ename": "ValueError",
     "evalue": "invalid literal for int() with base 10: 'e'",
     "output_type": "error",
     "traceback": [
      "\u001b[31m---------------------------------------------------------------------------\u001b[39m",
      "\u001b[31mValueError\u001b[39m                                Traceback (most recent call last)",
      "\u001b[36mCell\u001b[39m\u001b[36m \u001b[39m\u001b[32mIn[3]\u001b[39m\u001b[32m, line 3\u001b[39m\n\u001b[32m      1\u001b[39m students_marks = {}\n\u001b[32m      2\u001b[39m avg_marks = {}\n\u001b[32m----> \u001b[39m\u001b[32m3\u001b[39m n = \u001b[38;5;28;43mint\u001b[39;49m\u001b[43m(\u001b[49m\u001b[38;5;28;43minput\u001b[39;49m\u001b[43m(\u001b[49m\u001b[33;43m\"\u001b[39;49m\u001b[33;43menter the number of students : \u001b[39;49m\u001b[33;43m\"\u001b[39;49m\u001b[43m)\u001b[49m\u001b[43m)\u001b[49m\n\u001b[32m      4\u001b[39m m = \u001b[38;5;28mint\u001b[39m(\u001b[38;5;28minput\u001b[39m(\u001b[33m\"\u001b[39m\u001b[33mEnter the Total number of subjects : \u001b[39m\u001b[33m\"\u001b[39m))\n\u001b[32m      5\u001b[39m \u001b[38;5;28;01mfor\u001b[39;00m i \u001b[38;5;129;01min\u001b[39;00m \u001b[38;5;28mrange\u001b[39m(\u001b[32m0\u001b[39m,n):\n",
      "\u001b[31mValueError\u001b[39m: invalid literal for int() with base 10: 'e'"
     ]
    }
   ],
   "source": [
    "students_marks = {}\n",
    "avg_marks = {}\n",
    "n = int(input(\"enter the number of students : \"))\n",
    "m = int(input(\"Enter the Total number of subjects : \"))\n",
    "for i in range(0,n):\n",
    "    name = input(f\"Enter the {i} student name : \")\n",
    "    marks = [float(input(f\"Enter the {x} subject mark : \")) for x in range(0,m) ]\n",
    "    students_marks[name.upper()] = marks\n",
    "    avg = (sum(marks)/m)\n",
    "    avg_marks[name.upper()] = avg\n",
    "print(\"The Marks of all the Students : \",students_marks)\n",
    "print(\"The average of all students : \",avg_marks)\n",
    "highest = sorted(avg_marks.items(), key=lambda i : i[1], reverse=True)\n",
    "print(\"The Student Who Scores the Highest mark is : /n\",highest[0][0])"
   ]
  },
  {
   "cell_type": "markdown",
   "id": "12138741",
   "metadata": {},
   "source": [
    "4. Create a nested dictionary of three employees, each with keys for name, age, and salary.\n",
    "Write a function to give each employee a 10% raise and print the updated dictionary."
   ]
  },
  {
   "cell_type": "code",
   "execution_count": null,
   "id": "c88a8833",
   "metadata": {},
   "outputs": [
    {
     "name": "stdout",
     "output_type": "stream",
     "text": [
      "{'Employee 1': {'Name': 'DEVA', 'Age': 25, 'Salary': 36000}, 'Employee 2': {'Name': 'DHARAM', 'Age': 30, 'Salary': 65000}}\n",
      "\n",
      " ------------------------- \n",
      " \n",
      "The Employees Salary after 10%increament : \n",
      " \n",
      "{'Employee 1': {'Name': 'DEVA', 'Age': 25, 'Salary': 39600.0}, 'Employee 2': {'Name': 'DHARAM', 'Age': 30, 'Salary': 71500.0}}\n"
     ]
    }
   ],
   "source": [
    "def increament(employee_details,values,keys):\n",
    "    n = len(employee_details)\n",
    "    for i in range(0,n):\n",
    "        increase = (list(employee_details.items())[i][1][\"Salary\"])\n",
    "        increase = increase + (increase*0.1)\n",
    "        values[i][\"Salary\"] = increase\n",
    "    # print(values) for checking\n",
    "    employee_details.fromkeys(keys,values)\n",
    "    return employee_details\n",
    "\n",
    "employee_details = {}\n",
    "details = {}\n",
    "m = int(input(\"Enter Total Number Of Employess : \\n \"))\n",
    "for i in range(1,m+1):\n",
    "    name = input(\"Enter the Employee name : \")\n",
    "    age = int(input(\"Enter the Employee age : \"))\n",
    "    salary = int(input(\"enter the Employee Salary : \"))\n",
    "    employee_details[f\"Employee {i}\"] = {\n",
    "        \"Name\" : name.upper(),\n",
    "        \"Age\" : age,\n",
    "        \"Salary\" : salary\n",
    "    } \n",
    "values = list(employee_details.values())\n",
    "keys = list(employee_details.keys())\n",
    "print(employee_details)\n",
    "print(\"\\n ------------------------- \\n \")\n",
    "print(\"The Employees Salary after 10%\"\"increament : \\n \")\n",
    "print(increament(employee_details,values,keys))\n",
    "\n"
   ]
  },
  {
   "cell_type": "code",
   "execution_count": null,
   "id": "84c81954",
   "metadata": {},
   "outputs": [
    {
     "name": "stdout",
     "output_type": "stream",
     "text": [
      "executed\n",
      "executed\n",
      "\n",
      " [{'name': 'deva', 'age': 36, 'sal': 26400.0}, {'name': 'arun', 'age': 25, 'sal': 44000.0}]\n",
      "\n",
      " ['one', 'two']\n",
      "\n",
      " {'one': {'name': 'deva', 'age': 36, 'sal': 26400.0}, 'two': {'name': 'arun', 'age': 25, 'sal': 44000.0}}\n"
     ]
    }
   ],
   "source": [
    "def passing(d,details,keys):\n",
    "    n = len(keys)\n",
    "    for i in range(0,n):\n",
    "        s = ((list(d.items())[i][1][\"sal\"]))\n",
    "        s = s+(s*0.1)\n",
    "        details[i][\"sal\"] = s\n",
    "    print(\"\\n\",details )\n",
    "    print(\"\\n\",keys)\n",
    "    d.fromkeys(keys,details)\n",
    "    #d[list(d.items())[0][1][\"sal\"]] = s\n",
    "    print(\"\\n\",d)\n",
    "\n",
    "d = {'one' : {'name':'deva', 'age':36, 'sal':24000}, 'two':{'name':'arun', 'age':25, 'sal':40000}}\n",
    "details = list((d.values()))\n",
    "keys = list((d.keys()))\n",
    "# print(keys)\n",
    "# print(details)\n",
    "passing(d,details,keys)\n"
   ]
  },
  {
   "cell_type": "markdown",
   "id": "c6bce343",
   "metadata": {},
   "source": [
    "5. Create a dictionary to store item names and their quantities. Write a function to add stock\n",
    "to existing items and display the updated inventory."
   ]
  },
  {
   "cell_type": "code",
   "execution_count": null,
   "id": "9083fefd",
   "metadata": {},
   "outputs": [],
   "source": [
    "def update():\n",
    "\n",
    "\n",
    "n = int(input(\"Total number of items : \"))\n",
    "details = {}\n",
    "for i in range(0,n):\n",
    "    name = input(\"Enter the Product Name : \")\n",
    "    quantity = int(input(\"Enter The Quantity : \"))\n",
    "    details[name.upper()] = quantity\n",
    "ask = input(\"Want to Add Stock : (yes or no)\")\n",
    "if ask == \"yes\":\n",
    "    print(update())\n",
    "elif ask == \"no\":\n",
    "    print(\"details\")\n"
   ]
  }
 ],
 "metadata": {
  "kernelspec": {
   "display_name": "Python 3",
   "language": "python",
   "name": "python3"
  },
  "language_info": {
   "codemirror_mode": {
    "name": "ipython",
    "version": 3
   },
   "file_extension": ".py",
   "mimetype": "text/x-python",
   "name": "python",
   "nbconvert_exporter": "python",
   "pygments_lexer": "ipython3",
   "version": "3.11.0"
  }
 },
 "nbformat": 4,
 "nbformat_minor": 5
}
